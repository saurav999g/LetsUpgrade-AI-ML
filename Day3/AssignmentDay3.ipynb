{
 "cells": [
  {
   "cell_type": "markdown",
   "metadata": {},
   "source": [
    "# Assignment Day 3 | 8th July 2020"
   ]
  },
  {
   "cell_type": "markdown",
   "metadata": {},
   "source": [
    "Question 1"
   ]
  },
  {
   "cell_type": "code",
   "execution_count": 8,
   "metadata": {},
   "outputs": [
    {
     "name": "stdout",
     "output_type": "stream",
     "text": [
      "The subtraction of the two numbers is : (-2-3j)\n"
     ]
    }
   ],
   "source": [
    "a = 3 + 4j\n",
    "b = 5 + 7j\n",
    "c = a - b\n",
    "print(\"The subtraction of the two numbers is :\",c)"
   ]
  },
  {
   "cell_type": "markdown",
   "metadata": {},
   "source": [
    "Question 2"
   ]
  },
  {
   "cell_type": "code",
   "execution_count": 9,
   "metadata": {},
   "outputs": [
    {
     "name": "stdout",
     "output_type": "stream",
     "text": [
      "The fourth root of the number 16 is  2.0\n"
     ]
    }
   ],
   "source": [
    "d = 16\n",
    "e = 4 #for finding the fourt rooot of the number\n",
    "f = d**(1/e)\n",
    "print(\"The fourth root of the number\",d,\"is \",f)"
   ]
  },
  {
   "cell_type": "markdown",
   "metadata": {},
   "source": [
    "Question 3"
   ]
  },
  {
   "cell_type": "code",
   "execution_count": 11,
   "metadata": {},
   "outputs": [
    {
     "name": "stdout",
     "output_type": "stream",
     "text": [
      "Value of p after swapping : 10\n",
      "Value of q after swapping : 9\n"
     ]
    }
   ],
   "source": [
    "p = 9\n",
    "q = 10\n",
    "temp = p #Assigning the value of p to temp\n",
    "p = q #Assigning the value of q to temp\n",
    "q = temp \n",
    "print(\"Value of p after swapping :\",p)\n",
    "print(\"Value of q after swapping :\",q)"
   ]
  },
  {
   "cell_type": "markdown",
   "metadata": {},
   "source": [
    "Question 4"
   ]
  },
  {
   "cell_type": "code",
   "execution_count": 4,
   "metadata": {},
   "outputs": [
    {
     "name": "stdout",
     "output_type": "stream",
     "text": [
      "Value of r after swapping is 3\n",
      "Value of s after swapping is 6\n"
     ]
    }
   ],
   "source": [
    "r = 6\n",
    "s = 3\n",
    "r = r+s\n",
    "s = r-s\n",
    "r = r-s\n",
    "print(\"Value of r after swapping is\",r)\n",
    "print(\"Value of s after swapping is\",s)"
   ]
  },
  {
   "cell_type": "markdown",
   "metadata": {},
   "source": [
    "Question 5"
   ]
  },
  {
   "cell_type": "code",
   "execution_count": 5,
   "metadata": {},
   "outputs": [
    {
     "name": "stdout",
     "output_type": "stream",
     "text": [
      "The temperature in celsius is 17.77777777777778\n",
      "The temperature in kelvin is 290.92777777777775\n"
     ]
    }
   ],
   "source": [
    "fahrenheit_temp = 64\n",
    "celsius_temp = (fahrenheit_temp - 32)*5/9\n",
    "kelvin_temp = celsius_temp + 273.15\n",
    "print(\"The temperature in celsius is\",celsius_temp)\n",
    "print(\"The temperature in kelvin is\",kelvin_temp)"
   ]
  },
  {
   "cell_type": "markdown",
   "metadata": {},
   "source": [
    "Question 6"
   ]
  },
  {
   "cell_type": "code",
   "execution_count": 3,
   "metadata": {},
   "outputs": [
    {
     "name": "stdout",
     "output_type": "stream",
     "text": [
      "The data type of t1 is : <class 'int'>\n",
      "The data type of t2 is : <class 'float'>\n",
      "The data type of t3 is : <class 'str'>\n",
      "The data type of t4 is : <class 'bool'>\n",
      "The data type of t5 is : <class 'complex'>\n",
      "The data type of t6 is : <class 'list'>\n",
      "The data type of t7 is : <class 'dict'>\n",
      "The data type of t8 is : <class 'tuple'>\n",
      "The data type of t9 is : <class 'set'>\n",
      "The data type of t10 is : <class 'range'>\n",
      "The data type of t11 is : <class 'bytes'>\n"
     ]
    }
   ],
   "source": [
    "dt1 = 4\n",
    "print(\"The data type of t1 is :\",type(dt1))\n",
    "dt2 = 4.0\n",
    "print(\"The data type of t2 is :\",type(dt2))\n",
    "dt3 = \"Hello world!\"\n",
    "print(\"The data type of t3 is :\",type(dt3))\n",
    "dt4 = True\n",
    "print(\"The data type of t4 is :\",type(dt4))\n",
    "dt5 = 4 + 4j\n",
    "print(\"The data type of t5 is :\",type(dt5))\n",
    "dt6 = [1,2,3,4]\n",
    "print(\"The data type of t6 is :\",type(dt6))\n",
    "dt7 = {1:3,2:4}\n",
    "print(\"The data type of t7 is :\",type(dt7))\n",
    "dt8 = (1,2,3,4)\n",
    "print(\"The data type of t8 is :\",type(dt8))\n",
    "dt9 = {'car','jeep','bike'}\n",
    "print(\"The data type of t9 is :\",type(dt9))\n",
    "dt10 = range(10)\n",
    "print(\"The data type of t10 is :\",type(dt10))\n",
    "dt11 = b\"Hello World!\"\n",
    "print(\"The data type of t11 is :\",type(dt11))"
   ]
  },
  {
   "cell_type": "markdown",
   "metadata": {},
   "source": [
    "Question 7"
   ]
  },
  {
   "cell_type": "markdown",
   "metadata": {},
   "source": [
    "<h1>Steps to create Github profile and upload Github assignment link</h1>\n",
    "1.Open Github.com. <br>\n",
    "2.Signup in Github using gmail account.<br>\n",
    "3.Create a Github public repository by clicking on create repository and name it LetsUpgrade AI-ML.<br>\n",
    "4.Upload the solution in the repository in day wise manner. Click on commit changes.<br>\n",
    "5.Copy the URL of the uploaded file on that day and paste in the Assignment Submission Form.<br>\n",
    "6.Fill all the other details in the form correctly.Enter only the email id which is registered with the LetsUpgrade team and submit the form."
   ]
  }
 ],
 "metadata": {
  "kernelspec": {
   "display_name": "Python 3",
   "language": "python",
   "name": "python3"
  },
  "language_info": {
   "codemirror_mode": {
    "name": "ipython",
    "version": 3
   },
   "file_extension": ".py",
   "mimetype": "text/x-python",
   "name": "python",
   "nbconvert_exporter": "python",
   "pygments_lexer": "ipython3",
   "version": "3.7.6"
  }
 },
 "nbformat": 4,
 "nbformat_minor": 4
}
