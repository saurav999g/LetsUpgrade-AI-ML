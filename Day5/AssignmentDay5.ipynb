{
 "cells": [
  {
   "cell_type": "markdown",
   "metadata": {},
   "source": [
    "# Assignment Day 5 | 10th July 2020"
   ]
  },
  {
   "cell_type": "markdown",
   "metadata": {},
   "source": [
    "Question 1:"
   ]
  },
  {
   "cell_type": "code",
   "execution_count": 4,
   "metadata": {},
   "outputs": [
    {
     "name": "stdout",
     "output_type": "stream",
     "text": [
      "Enter the number of prime numbers you want :20\n",
      "The first 20 prime numbers are :\n",
      "3\n",
      "5\n",
      "7\n",
      "11\n",
      "13\n",
      "17\n",
      "19\n",
      "23\n",
      "29\n",
      "31\n",
      "37\n",
      "41\n",
      "43\n",
      "47\n",
      "53\n",
      "59\n",
      "61\n",
      "67\n",
      "71\n",
      "73\n"
     ]
    }
   ],
   "source": [
    "n = int(input(\"Enter the number of prime numbers you want :\"))\n",
    "x = 3\n",
    "print(\"The first\",n,\"prime numbers are :\")\n",
    "while n:\n",
    "    for i in range(2,x+1):\n",
    "        if x % i == 0:\n",
    "            break\n",
    "    if x == i:\n",
    "        print(x)\n",
    "        n = n-1\n",
    "    x = x + 1"
   ]
  },
  {
   "cell_type": "markdown",
   "metadata": {},
   "source": [
    "Question 2:"
   ]
  },
  {
   "cell_type": "code",
   "execution_count": 9,
   "metadata": {},
   "outputs": [
    {
     "name": "stdout",
     "output_type": "stream",
     "text": [
      "Enter the stringSaurav Vashistha\n",
      "15 functions on string are:\n",
      "\n",
      "SAURAV VASHISTHA\n",
      "saurav vashistha\n",
      "False\n",
      "Saurav Vashistha\n",
      "['Saurav', 'Vashistha']\n",
      "9\n",
      "Saurav Vaahiatha\n",
      "sAURAV vASHISTHA\n",
      "5\n",
      "False\n",
      "Saurav Vashistha\n",
      "Saurav vashistha\n",
      "1\n",
      "Saurav Vashistha\n",
      "saurav vashistha\n"
     ]
    }
   ],
   "source": [
    "s_1 = input(\"Enter the string\")\n",
    "print('15 functions on string are:\\n')\n",
    "s_2 = s_1.upper()\n",
    "print(s_2)\n",
    "s_3 = s_1.lower()\n",
    "print(s_3)\n",
    "s_4 = s_1.isalnum()\n",
    "print(s_4)\n",
    "s_5 = s_1.strip()\n",
    "print(s_5)\n",
    "s_6 = s_1.rsplit(' ')\n",
    "print(s_6)\n",
    "s_7 = s_1.index('s')\n",
    "print(s_7)\n",
    "s_8 = s_1.replace('s','a')\n",
    "print(s_8)\n",
    "s_9 = s_1.swapcase()\n",
    "print(s_9)\n",
    "s_10 = s_1.find('v')\n",
    "print(s_10)\n",
    "s_11 = s_1.startswith('s')\n",
    "print(s_11)\n",
    "s_12 = s_1.title()\n",
    "print(s_12)\n",
    "s_13 = s_1.capitalize()\n",
    "print(s_13)\n",
    "s_14 = s_1.count('Saurav')\n",
    "print(s_14)\n",
    "s_15 = s_1.format()\n",
    "print(s_15)\n",
    "s_16 = s_1.casefold()\n",
    "print(s_16)\n"
   ]
  },
  {
   "cell_type": "markdown",
   "metadata": {},
   "source": [
    "Question 3:"
   ]
  },
  {
   "cell_type": "code",
   "execution_count": 1,
   "metadata": {},
   "outputs": [
    {
     "name": "stdout",
     "output_type": "stream",
     "text": [
      "enter the first string\tqwerty\n",
      "enter the second string\twerqty\n",
      "The strings are anagrams.\n"
     ]
    }
   ],
   "source": [
    "string1 = input(\"enter the first string\\t\")\n",
    "string2 = input(\"enter the second string\\t\")\n",
    "def check(string1,string2):\n",
    "        if string1 == string2[::-1]:\n",
    "           print(\"!Palindrome!\")\n",
    "        else :\n",
    "            if len(string1) == len(string2):\n",
    "                (sorted(string1)==sorted(string2))\n",
    "                print(\"The strings are anagrams.\")\n",
    "            else:\n",
    "                print(\"The  string is neither a palindrome or anagram\")\n",
    "            \n",
    "check(string1,string2)\n",
    "            "
   ]
  },
  {
   "cell_type": "markdown",
   "metadata": {},
   "source": [
    "Question 4:"
   ]
  },
  {
   "cell_type": "code",
   "execution_count": 1,
   "metadata": {},
   "outputs": [
    {
     "name": "stdout",
     "output_type": "stream",
     "text": [
      "enter the string\tDr.Darshan Ingle@AI-ML Trainer\n",
      "drdarshaningleaimltrainer\n"
     ]
    }
   ],
   "source": [
    "string = input(\"enter the string\\t\")\n",
    "alpha_num = ''\n",
    "for i in string:\n",
    "    if i.isalnum():\n",
    "        alpha_num = alpha_num + i \n",
    "    alpha_num = alpha_num.lower()\n",
    "print(alpha_num)"
   ]
  }
 ],
 "metadata": {
  "kernelspec": {
   "display_name": "Python 3",
   "language": "python",
   "name": "python3"
  },
  "language_info": {
   "codemirror_mode": {
    "name": "ipython",
    "version": 3
   },
   "file_extension": ".py",
   "mimetype": "text/x-python",
   "name": "python",
   "nbconvert_exporter": "python",
   "pygments_lexer": "ipython3",
   "version": "3.7.6"
  }
 },
 "nbformat": 4,
 "nbformat_minor": 4
}
