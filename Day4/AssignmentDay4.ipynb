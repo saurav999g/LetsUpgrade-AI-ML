{
 "cells": [
  {
   "cell_type": "markdown",
   "metadata": {},
   "source": [
    "# Assignment Day 4 | 9th July 2020"
   ]
  },
  {
   "cell_type": "markdown",
   "metadata": {},
   "source": [
    "Question 1:"
   ]
  },
  {
   "cell_type": "code",
   "execution_count": 10,
   "metadata": {},
   "outputs": [
    {
     "name": "stdout",
     "output_type": "stream",
     "text": [
      "(-0.3461538461538462+0.7307692307692308j) (42+2j)\n"
     ]
    },
    {
     "data": {
      "text/plain": [
       "'Floor division and modulo operation is not possible in case of complex numbers.We have to perform these task by \\n  taking real and imaginary part as two different numbers.'"
      ]
     },
     "execution_count": 10,
     "metadata": {},
     "output_type": "execute_result"
    }
   ],
   "source": [
    "a = 3 + 5j\n",
    "b = 4 - 6j\n",
    "c = a/b\n",
    "d = a*b\n",
    "print(c,d)\n",
    "'''Floor division and modulo operation is not possible in case of complex numbers.We have to perform these task by \n",
    "  taking real and imaginary part as two different numbers.'''"
   ]
  },
  {
   "cell_type": "markdown",
   "metadata": {},
   "source": [
    "Question 2:"
   ]
  },
  {
   "cell_type": "markdown",
   "metadata": {},
   "source": [
    "range() function:\n",
    "It is a built in function in python. It is used to generate a series of number within a given range.\n",
    "There are mainly three parameters of the range function.<br>\n",
    "1.start : staring point of the sequence.the default value is 0.<br>\n",
    "2.stop : endpoint of the sequence. last element is not included in the sequence.<br>\n",
    "3.step : step size of the sequence.\n",
    "<br>\n",
    "Sample program:\n"
   ]
  },
  {
   "cell_type": "code",
   "execution_count": 15,
   "metadata": {},
   "outputs": [
    {
     "name": "stdout",
     "output_type": "stream",
     "text": [
      "Number :20\n",
      "4\n",
      "6\n",
      "8\n",
      "10\n",
      "12\n"
     ]
    }
   ],
   "source": [
    "n = int(input(\"Number :\"))\n",
    "for i in range(4,n-6,2):#Here the start of the sequence is from 4 and stop is at n-6 with a step size of 2\n",
    "    print(i) #the loop will go from 4 to n-6(14) with step size of 2\n",
    "    "
   ]
  },
  {
   "cell_type": "markdown",
   "metadata": {},
   "source": [
    "Question 3:"
   ]
  },
  {
   "cell_type": "code",
   "execution_count": 31,
   "metadata": {},
   "outputs": [
    {
     "name": "stdout",
     "output_type": "stream",
     "text": [
      "Enter the first number :30\n",
      "Enter the second number :4\n",
      "120\n"
     ]
    }
   ],
   "source": [
    "p = int(input(\"Enter the first number :\"))\n",
    "q = int(input(\"Enter the second number :\"))\n",
    "r = p - q\n",
    "if r > 25:\n",
    "    print(p*q)\n",
    "else :\n",
    "    if q !=0:\n",
    "        print(p/q)\n",
    "    else :\n",
    "        print(\"Division by Zero is undefined\")"
   ]
  },
  {
   "cell_type": "markdown",
   "metadata": {},
   "source": [
    "Question 4:"
   ]
  },
  {
   "cell_type": "code",
   "execution_count": 1,
   "metadata": {},
   "outputs": [
    {
     "name": "stdout",
     "output_type": "stream",
     "text": [
      "Square of 6 minus 2 is 34\n",
      "Square of 12 minus 2 is 142\n",
      "Square of 56 minus 2 is 3134\n",
      "Square of 8 minus 2 is 62\n",
      "Square of 10 minus 2 is 98\n",
      "Square of 14 minus 2 is 194\n"
     ]
    }
   ],
   "source": [
    "my_list = [ 1, 3, 6, 12, 56 , 8, 7, 10, 14, 21]\n",
    "for i in my_list:\n",
    "    if i%2 == 0:\n",
    "        print(\"Square of\",i,\"minus 2 is\",i**2-2)\n"
   ]
  },
  {
   "cell_type": "markdown",
   "metadata": {},
   "source": [
    "Question 5:"
   ]
  },
  {
   "cell_type": "code",
   "execution_count": 30,
   "metadata": {},
   "outputs": [
    {
     "name": "stdout",
     "output_type": "stream",
     "text": [
      "element in list which is greater than 7 when divided by 2 is 56\n",
      "element in list which is greater than 7 when divided by 2 is 21\n"
     ]
    }
   ],
   "source": [
    "my_list = [ 1, 3, 6, 12, 56 , 8, 7, 10, 14, 21]\n",
    "for i in my_list:\n",
    "    if i/2 > 7:\n",
    "        print(\"element in list which is greater than 7 when divided by 2 is\",i)"
   ]
  },
  {
   "cell_type": "code",
   "execution_count": null,
   "metadata": {},
   "outputs": [],
   "source": []
  }
 ],
 "metadata": {
  "kernelspec": {
   "display_name": "Python 3",
   "language": "python",
   "name": "python3"
  },
  "language_info": {
   "codemirror_mode": {
    "name": "ipython",
    "version": 3
   },
   "file_extension": ".py",
   "mimetype": "text/x-python",
   "name": "python",
   "nbconvert_exporter": "python",
   "pygments_lexer": "ipython3",
   "version": "3.7.6"
  }
 },
 "nbformat": 4,
 "nbformat_minor": 4
}
